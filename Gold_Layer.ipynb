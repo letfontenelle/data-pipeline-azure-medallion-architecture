{
 "cells": [
  {
   "cell_type": "code",
   "execution_count": null,
   "metadata": {
    "application/vnd.databricks.v1+cell": {
     "cellMetadata": {
      "byteLimit": 2048000,
      "rowLimit": 10000
     },
     "inputWidgets": {},
     "nuid": "8bbc98a2-b23b-4f6c-935a-92065ed0012c",
     "showTitle": false,
     "title": ""
    }
   },
   "outputs": [],
   "source": [
    "# Import necessary libraries\n",
    "from pyspark.sql import SparkSession\n",
    "from pyspark.sql.functions import col, when\n",
    "from pyspark.sql import functions as F\n",
    "\n",
    "\n",
    "# Create Spark session\n",
    "spark = SparkSession.builder.appName(\"WaterQualityPipeline\").getOrCreate()"
   ]
  },
  {
   "cell_type": "code",
   "execution_count": null,
   "metadata": {
    "application/vnd.databricks.v1+cell": {
     "cellMetadata": {
      "byteLimit": 2048000,
      "rowLimit": 10000
     },
     "inputWidgets": {},
     "nuid": "c973f594-7421-4575-8166-35ee15b1d19a",
     "showTitle": false,
     "title": ""
    }
   },
   "outputs": [],
   "source": [
    "# Load Silver layer data\n",
    "silver_df = spark.read.format(\"delta\").load(\"/mnt/datalake/silver/water_quality_cleaned\")\n"
   ]
  },
  {
   "cell_type": "code",
   "execution_count": null,
   "metadata": {
    "application/vnd.databricks.v1+cell": {
     "cellMetadata": {
      "byteLimit": 2048000,
      "rowLimit": 10000
     },
     "inputWidgets": {},
     "nuid": "832a8968-193e-419d-a223-d38f32545685",
     "showTitle": false,
     "title": ""
    }
   },
   "outputs": [],
   "source": [
    "silver_df.display(2)"
   ]
  },
  {
   "cell_type": "markdown",
   "metadata": {
    "application/vnd.databricks.v1+cell": {
     "cellMetadata": {},
     "inputWidgets": {},
     "nuid": "c53f0b30-4adc-4290-a8c5-f2cab174fd0b",
     "showTitle": false,
     "title": ""
    }
   },
   "source": [
    "Finding outliers (mean_value, minimum_value, maximum_value)\n"
   ]
  },
  {
   "cell_type": "markdown",
   "metadata": {
    "application/vnd.databricks.v1+cell": {
     "cellMetadata": {},
     "inputWidgets": {},
     "nuid": "fb6bc554-457a-4199-b3d5-312c27673d19",
     "showTitle": false,
     "title": ""
    }
   },
   "source": [
    "Outliers IN Min_Value column:"
   ]
  },
  {
   "cell_type": "code",
   "execution_count": null,
   "metadata": {
    "application/vnd.databricks.v1+cell": {
     "cellMetadata": {
      "byteLimit": 2048000,
      "rowLimit": 10000
     },
     "inputWidgets": {},
     "nuid": "9947a299-ceb9-46ca-be61-3401117712b7",
     "showTitle": false,
     "title": ""
    }
   },
   "outputs": [],
   "source": [
    "gold_df = silver_df.dropDuplicates()"
   ]
  },
  {
   "cell_type": "code",
   "execution_count": null,
   "metadata": {
    "application/vnd.databricks.v1+cell": {
     "cellMetadata": {
      "byteLimit": 2048000,
      "rowLimit": 10000
     },
     "inputWidgets": {},
     "nuid": "f7225764-72f8-4755-b161-b384abbb432f",
     "showTitle": false,
     "title": ""
    }
   },
   "outputs": [],
   "source": [
    "gold_df.count()"
   ]
  },
  {
   "cell_type": "code",
   "execution_count": null,
   "metadata": {
    "application/vnd.databricks.v1+cell": {
     "cellMetadata": {},
     "inputWidgets": {},
     "nuid": "8992f1d9-ff6c-4bb1-ad64-0e6cff387163",
     "showTitle": false,
     "title": ""
    }
   },
   "outputs": [],
   "source": [
    "gold_df.display()"
   ]
  },
  {
   "cell_type": "code",
   "execution_count": null,
   "metadata": {
    "application/vnd.databricks.v1+cell": {
     "cellMetadata": {},
     "inputWidgets": {},
     "nuid": "404e480c-b800-474e-bbd9-3c0f4997ce1b",
     "showTitle": false,
     "title": ""
    }
   },
   "outputs": [],
   "source": [
    "# Calculate mean and standard deviation for 'minimum_value' column\n",
    "mean_val = gold_df.select(F.mean(\"Minimum_Value\")).first()[0]\n",
    "stddev_val = gold_df.select(F.stddev(\"Minimum_Value\")).first()[0]\n",
    "\n",
    "\n",
    "# Calculate Z-Score and identify outliers\n",
    "gold_df_with_zscore = gold_df.withColumn(\n",
    "    \"z_score\", (F.col(\"Minimum_Value\") - mean_val) / stddev_val\n",
    ")\n",
    "gold_df_with_outliers = gold_df_with_zscore.withColumn(\n",
    "    \"MinimumValue_outlier\", F.when(\n",
    "        F.abs(F.col(\"z_score\")) > 3, 1\n",
    "    ).otherwise(0)\n",
    ")\n",
    "\n",
    "\n",
    "# Show results\n",
    "gold_df_with_outliers.show()\n"
   ]
  },
  {
   "cell_type": "code",
   "execution_count": null,
   "metadata": {
    "application/vnd.databricks.v1+cell": {
     "cellMetadata": {},
     "inputWidgets": {},
     "nuid": "dfdf38d7-5555-40c5-bf8c-6fc81bd84446",
     "showTitle": false,
     "title": ""
    }
   },
   "outputs": [],
   "source": [
    "gold_df_with_outliers.display()"
   ]
  },
  {
   "cell_type": "code",
   "execution_count": null,
   "metadata": {
    "application/vnd.databricks.v1+cell": {
     "cellMetadata": {
      "byteLimit": 2048000,
      "rowLimit": 10000
     },
     "inputWidgets": {},
     "nuid": "429cd568-bbbe-448a-b8ca-dcf5923c02f8",
     "showTitle": false,
     "title": ""
    }
   },
   "outputs": [],
   "source": [
    "#Rows with outliers in the Min_Value column\n",
    "outlier_rows = gold_df_with_outliers.filter(gold_df_with_outliers.MinimumValue_outlier == 1)\n",
    "print(\"Rows with Minimumvalue_outlier = 1:\")\n",
    "outlier_rows.display()\n",
    "\n"
   ]
  },
  {
   "cell_type": "code",
   "execution_count": null,
   "metadata": {
    "application/vnd.databricks.v1+cell": {
     "cellMetadata": {
      "byteLimit": 2048000,
      "rowLimit": 10000
     },
     "inputWidgets": {},
     "nuid": "9b5da9fc-05f7-4818-85ef-d3277f195452",
     "showTitle": false,
     "title": ""
    }
   },
   "outputs": [],
   "source": [
    "gold_df = gold_df_with_outliers"
   ]
  },
  {
   "cell_type": "markdown",
   "metadata": {
    "application/vnd.databricks.v1+cell": {
     "cellMetadata": {},
     "inputWidgets": {},
     "nuid": "17a7c5b2-da02-41db-a142-44cc9f2e6066",
     "showTitle": false,
     "title": ""
    }
   },
   "source": [
    "Outliers In Max_  Value column:"
   ]
  },
  {
   "cell_type": "code",
   "execution_count": null,
   "metadata": {
    "application/vnd.databricks.v1+cell": {
     "cellMetadata": {
      "byteLimit": 2048000,
      "rowLimit": 10000
     },
     "inputWidgets": {},
     "nuid": "508de0bb-6832-45a4-bd4e-f25630b81f89",
     "showTitle": false,
     "title": ""
    }
   },
   "outputs": [],
   "source": [
    "# Calculate mean and standard deviation for 'Max_Value' column\n",
    "mean_val = gold_df.select(F.mean(\"Maximum_Value\")).first()[0]\n",
    "stddev_val = gold_df.select(F.stddev(\"Maximum_Value\")).first()[0]\n",
    "\n",
    "\n",
    "# Calculate Z-Score and identify outliers\n",
    "gold_df_with_zscore = gold_df.withColumn(\n",
    "    \"z_score\", (F.col(\"Maximum_Value\") - mean_val) / stddev_val\n",
    ")\n",
    "gold_df_with_outliers = gold_df_with_zscore.withColumn(\n",
    "    \"MaxValue_outlier\", F.when(\n",
    "        F.abs(F.col(\"z_score\")) > 3, 1\n",
    "    ).otherwise(0)\n",
    ")\n",
    "\n",
    "\n",
    "# Show results\n",
    "gold_df_with_outliers.show()\n"
   ]
  },
  {
   "cell_type": "code",
   "execution_count": null,
   "metadata": {
    "application/vnd.databricks.v1+cell": {
     "cellMetadata": {
      "byteLimit": 2048000,
      "rowLimit": 10000
     },
     "inputWidgets": {},
     "nuid": "b87db8db-e866-44f2-93f0-8b3a7df74c3f",
     "showTitle": false,
     "title": ""
    }
   },
   "outputs": [],
   "source": [
    "gold_df_with_outliers.display()"
   ]
  },
  {
   "cell_type": "code",
   "execution_count": null,
   "metadata": {
    "application/vnd.databricks.v1+cell": {
     "cellMetadata": {
      "byteLimit": 2048000,
      "rowLimit": 10000
     },
     "inputWidgets": {},
     "nuid": "786c35e2-fbda-4869-800c-203101956740",
     "showTitle": false,
     "title": ""
    }
   },
   "outputs": [],
   "source": [
    "#Check and remove the rows with outliers in Max_Value Column\n",
    "\n",
    "#Rows with outliers in the Min_Value column\n",
    "outlier_rows = gold_df_with_outliers.filter(gold_df_with_outliers.MaxValue_outlier == 1)\n",
    "print(\"Rows with MaxValue_outlier = 1:\")\n",
    "outlier_rows.display()"
   ]
  },
  {
   "cell_type": "code",
   "execution_count": null,
   "metadata": {
    "application/vnd.databricks.v1+cell": {
     "cellMetadata": {
      "byteLimit": 2048000,
      "rowLimit": 10000
     },
     "inputWidgets": {},
     "nuid": "98e13704-b951-4b4c-802c-ca6d6874d62e",
     "showTitle": false,
     "title": ""
    }
   },
   "outputs": [],
   "source": [
    "gold_df = gold_df_with_outliers\n",
    "\n",
    "gold_df.display()"
   ]
  },
  {
   "cell_type": "markdown",
   "metadata": {
    "application/vnd.databricks.v1+cell": {
     "cellMetadata": {},
     "inputWidgets": {},
     "nuid": "37f24906-591a-47f0-9ab6-302dc029a425",
     "showTitle": false,
     "title": ""
    }
   },
   "source": [
    "Outliers In Mean_  Value column:"
   ]
  },
  {
   "cell_type": "code",
   "execution_count": null,
   "metadata": {
    "application/vnd.databricks.v1+cell": {
     "cellMetadata": {
      "byteLimit": 2048000,
      "rowLimit": 10000
     },
     "inputWidgets": {},
     "nuid": "4f734da2-e402-4618-ae58-0ee6e6d7021c",
     "showTitle": false,
     "title": ""
    }
   },
   "outputs": [],
   "source": [
    "# Calculate mean and standard deviation for 'Max_Value' column\n",
    "mean_val = gold_df.select(F.mean(\"Mean_Value\")).first()[0]\n",
    "stddev_val = gold_df.select(F.stddev(\"Mean_Value\")).first()[0]\n",
    "\n",
    "\n",
    "# Calculate Z-Score and identify outliers\n",
    "gold_df_with_zscore = gold_df.withColumn(\n",
    "    \"z_score\", (F.col(\"Mean_Value\") - mean_val) / stddev_val\n",
    ")\n",
    "gold_df_with_outliers = gold_df_with_zscore.withColumn(\n",
    "    \"MeanValue_outlier\", F.when(\n",
    "        F.abs(F.col(\"z_score\")) > 3, 1\n",
    "    ).otherwise(0)\n",
    ")\n",
    "\n",
    "\n",
    "# Show results\n",
    "gold_df_with_outliers.show()\n"
   ]
  },
  {
   "cell_type": "code",
   "execution_count": null,
   "metadata": {
    "application/vnd.databricks.v1+cell": {
     "cellMetadata": {
      "byteLimit": 2048000,
      "rowLimit": 10000
     },
     "inputWidgets": {},
     "nuid": "b39b523b-5ed5-4e1b-b28d-28819d32b7c4",
     "showTitle": false,
     "title": ""
    }
   },
   "outputs": [],
   "source": [
    "gold_df_with_outliers.display()"
   ]
  },
  {
   "cell_type": "code",
   "execution_count": null,
   "metadata": {
    "application/vnd.databricks.v1+cell": {
     "cellMetadata": {
      "byteLimit": 2048000,
      "rowLimit": 10000
     },
     "inputWidgets": {},
     "nuid": "a6401dae-fac3-42ba-801a-bd0750a165ee",
     "showTitle": false,
     "title": ""
    }
   },
   "outputs": [],
   "source": [
    "#Check and remove the rows with outliers in Mean_Value Column\n",
    "\n",
    "#Rows with outliers in the Min_Value column\n",
    "#outlier_rows = gold_df_with_outliers.filter(gold_df_with_outliers.MeanValue_outlier == 1)\n",
    "#print(\"Rows with MeanValue_outlier = 1:\")\n",
    "#outlier_rows.display()"
   ]
  },
  {
   "cell_type": "code",
   "execution_count": null,
   "metadata": {
    "application/vnd.databricks.v1+cell": {
     "cellMetadata": {
      "byteLimit": 2048000,
      "rowLimit": 10000
     },
     "inputWidgets": {},
     "nuid": "828366a5-e6ab-4f70-a0ae-adcbcd56b4d7",
     "showTitle": false,
     "title": ""
    }
   },
   "outputs": [],
   "source": [
    "# Step 2: Filter out rows where MinimumValue_outlier is 1\n",
    "gold_df_no_outliers = gold_df_with_outliers.filter(gold_df_with_outliers.MeanValue_outlier == 0)\n",
    "\n",
    "# Show the results after removing outliers\n",
    "print(\"DataFrame after removing outliers:\")\n",
    "gold_df_no_outliers.show()"
   ]
  },
  {
   "cell_type": "code",
   "execution_count": null,
   "metadata": {
    "application/vnd.databricks.v1+cell": {
     "cellMetadata": {
      "byteLimit": 2048000,
      "rowLimit": 10000
     },
     "inputWidgets": {},
     "nuid": "b5631d8a-bae6-4412-8f2d-9d46e68d8315",
     "showTitle": false,
     "title": ""
    }
   },
   "outputs": [],
   "source": [
    "gold_df = gold_df_no_outliers"
   ]
  },
  {
   "cell_type": "code",
   "execution_count": null,
   "metadata": {
    "application/vnd.databricks.v1+cell": {
     "cellMetadata": {
      "byteLimit": 2048000,
      "rowLimit": 10000
     },
     "inputWidgets": {},
     "nuid": "33c741e7-3f01-4cd8-9680-93697b0c1609",
     "showTitle": false,
     "title": ""
    }
   },
   "outputs": [],
   "source": [
    "gold_df.display()"
   ]
  },
  {
   "cell_type": "code",
   "execution_count": null,
   "metadata": {
    "application/vnd.databricks.v1+cell": {
     "cellMetadata": {
      "byteLimit": 2048000,
      "rowLimit": 10000
     },
     "inputWidgets": {},
     "nuid": "b39a9f0d-98d5-48f4-a14a-d7433f71fdaa",
     "showTitle": false,
     "title": ""
    }
   },
   "outputs": [],
   "source": [
    "gold_df.count()"
   ]
  },
  {
   "cell_type": "code",
   "execution_count": null,
   "metadata": {
    "application/vnd.databricks.v1+cell": {
     "cellMetadata": {
      "byteLimit": 2048000,
      "rowLimit": 10000
     },
     "inputWidgets": {},
     "nuid": "ff323ce0-261c-4ec2-a7a3-41a705b25362",
     "showTitle": false,
     "title": ""
    }
   },
   "outputs": [],
   "source": [
    "gold_df = gold_df.drop(\"z_score\")"
   ]
  },
  {
   "cell_type": "code",
   "execution_count": null,
   "metadata": {
    "application/vnd.databricks.v1+cell": {
     "cellMetadata": {
      "byteLimit": 2048000,
      "rowLimit": 10000
     },
     "inputWidgets": {},
     "nuid": "e4bcc20c-a6d2-4d4e-a996-dceb62e86bb0",
     "showTitle": false,
     "title": ""
    }
   },
   "outputs": [],
   "source": [
    "gold_df.display()"
   ]
  },
  {
   "cell_type": "code",
   "execution_count": null,
   "metadata": {
    "application/vnd.databricks.v1+cell": {
     "cellMetadata": {
      "byteLimit": 2048000,
      "rowLimit": 10000
     },
     "inputWidgets": {},
     "nuid": "65a48fc1-51aa-4bc8-a012-b25fd1c20ab5",
     "showTitle": false,
     "title": ""
    }
   },
   "outputs": [],
   "source": [
    "# Handle sampling period by splitting into start and end dates\n",
    "gold_df = gold_df.withColumn(\"Start_Date\", col(\"Sampling_Period\").substr(1, 10)) \\\n",
    "    .withColumn(\"End_Date\", col(\"Sampling_Period\").substr(-10, 10))\n"
   ]
  },
  {
   "cell_type": "code",
   "execution_count": null,
   "metadata": {
    "application/vnd.databricks.v1+cell": {
     "cellMetadata": {
      "byteLimit": 2048000,
      "rowLimit": 10000
     },
     "inputWidgets": {},
     "nuid": "45608d8b-06a4-485d-a901-d4df2ff42213",
     "showTitle": false,
     "title": ""
    }
   },
   "outputs": [],
   "source": [
    "# Write the final data to the Gold layer\n",
    "gold_df.write.format(\"delta\").mode(\"overwrite\").save(\"/mnt/datalake/gold/water_quality_aggregated\")"
   ]
  },
  {
   "cell_type": "code",
   "execution_count": null,
   "metadata": {},
   "outputs": [],
   "source": [
    "spark.sql(\"CREATE DATABASE IF NOT EXISTS waterdb\")\n"
   ]
  },
  {
   "cell_type": "code",
   "execution_count": null,
   "metadata": {
    "application/vnd.databricks.v1+cell": {
     "cellMetadata": {
      "byteLimit": 2048000,
      "rowLimit": 10000
     },
     "inputWidgets": {},
     "nuid": "df101cef-8173-46a7-8eb0-5bd95b76467b",
     "showTitle": false,
     "title": ""
    }
   },
   "outputs": [],
   "source": [
    "gold_df.write.format(\"csv\").mode(\"overwrite\").saveAsTable(\"waterdb.gold_table\")"
   ]
  },
  {
   "cell_type": "code",
   "execution_count": null,
   "metadata": {
    "application/vnd.databricks.v1+cell": {
     "cellMetadata": {
      "byteLimit": 2048000,
      "rowLimit": 10000
     },
     "inputWidgets": {},
     "nuid": "bbda9b7f-f994-4e9e-8617-6ef544478ce5",
     "showTitle": false,
     "title": ""
    }
   },
   "outputs": [],
   "source": []
  },
  {
   "cell_type": "code",
   "execution_count": null,
   "metadata": {
    "application/vnd.databricks.v1+cell": {
     "cellMetadata": {},
     "inputWidgets": {},
     "nuid": "4d07b80e-ae84-46a5-a306-f6bdb02c9e9c",
     "showTitle": false,
     "title": ""
    }
   },
   "outputs": [],
   "source": []
  }
 ],
 "metadata": {
  "application/vnd.databricks.v1+notebook": {
   "dashboards": [],
   "environmentMetadata": null,
   "language": "python",
   "notebookMetadata": {
    "pythonIndentUnit": 4
   },
   "notebookName": "Gold_Layer",
   "widgets": {}
  },
  "language_info": {
   "name": "python"
  }
 },
 "nbformat": 4,
 "nbformat_minor": 0
}
