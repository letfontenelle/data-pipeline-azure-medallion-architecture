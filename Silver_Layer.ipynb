{
 "cells": [
  {
   "cell_type": "code",
   "execution_count": null,
   "metadata": {
    "application/vnd.databricks.v1+cell": {
     "cellMetadata": {
      "byteLimit": 2048000,
      "rowLimit": 10000
     },
     "inputWidgets": {},
     "nuid": "0f00c5d0-d13a-49f8-807e-aed0ca88431b",
     "showTitle": false,
     "title": ""
    }
   },
   "outputs": [],
   "source": [
    "# Import necessary libraries\n",
    "from pyspark.sql import SparkSession\n",
    "from pyspark.sql.functions import col, when\n",
    "import pyspark.sql.functions as F\n",
    "\n",
    "\n",
    "# Create Spark session\n",
    "spark = SparkSession.builder.appName(\"WaterQualityPipeline\").getOrCreate()"
   ]
  },
  {
   "cell_type": "code",
   "execution_count": null,
   "metadata": {
    "application/vnd.databricks.v1+cell": {
     "cellMetadata": {
      "byteLimit": 2048000,
      "rowLimit": 10000
     },
     "inputWidgets": {},
     "nuid": "92a516da-bb4a-440b-98e9-e92d543471d8",
     "showTitle": false,
     "title": ""
    }
   },
   "outputs": [],
   "source": [
    "# Load Bronze layer data\n",
    "bronze_df = spark.read.format(\"delta\").load(\"/mnt/datalake/bronze/water_quality\")"
   ]
  },
  {
   "cell_type": "code",
   "execution_count": null,
   "metadata": {
    "application/vnd.databricks.v1+cell": {
     "cellMetadata": {
      "byteLimit": 2048000,
      "rowLimit": 10000
     },
     "inputWidgets": {},
     "nuid": "78ffa9a5-70a2-4b23-b697-92f1ffdebbc7",
     "showTitle": false,
     "title": ""
    }
   },
   "outputs": [],
   "source": [
    "bronze_df.count()"
   ]
  },
  {
   "cell_type": "markdown",
   "metadata": {
    "application/vnd.databricks.v1+cell": {
     "cellMetadata": {},
     "inputWidgets": {},
     "nuid": "0f466196-bed4-4f63-8575-e5dfee15d7f0",
     "showTitle": false,
     "title": ""
    }
   },
   "source": [
    "Data types checking"
   ]
  },
  {
   "cell_type": "code",
   "execution_count": null,
   "metadata": {
    "application/vnd.databricks.v1+cell": {
     "cellMetadata": {
      "byteLimit": 2048000,
      "rowLimit": 10000
     },
     "inputWidgets": {},
     "nuid": "56ce8d21-f122-471c-89df-3c9522262dec",
     "showTitle": false,
     "title": ""
    }
   },
   "outputs": [],
   "source": [
    "bronze_df.describe()"
   ]
  },
  {
   "cell_type": "code",
   "execution_count": null,
   "metadata": {
    "application/vnd.databricks.v1+cell": {
     "cellMetadata": {
      "byteLimit": 2048000,
      "rowLimit": 10000
     },
     "inputWidgets": {},
     "nuid": "ce5c2816-9b9c-4f35-bf8c-e6683f7b86f2",
     "showTitle": false,
     "title": ""
    }
   },
   "outputs": [],
   "source": [
    "bronze_df.printSchema()"
   ]
  },
  {
   "cell_type": "markdown",
   "metadata": {
    "application/vnd.databricks.v1+cell": {
     "cellMetadata": {},
     "inputWidgets": {},
     "nuid": "90d6700b-29ad-444d-b21b-23fd5557d4f5",
     "showTitle": false,
     "title": ""
    }
   },
   "source": [
    "Checking Null values"
   ]
  },
  {
   "cell_type": "code",
   "execution_count": null,
   "metadata": {
    "application/vnd.databricks.v1+cell": {
     "cellMetadata": {
      "byteLimit": 2048000,
      "rowLimit": 10000
     },
     "inputWidgets": {},
     "nuid": "208f00dd-49bb-4564-9fb1-d65a91c9ecbf",
     "showTitle": false,
     "title": ""
    }
   },
   "outputs": [],
   "source": [
    "def count_missings(spark_df,sort=True):\n",
    "    \"\"\"\n",
    "    Counts number of nulls and nans in each column\n",
    "    \"\"\"\n",
    "    df = spark_df.select([F.count(F.when(F.isnan(c) | F.isnull(c), c)).alias(c) for (c,c_type) in spark_df.dtypes if c_type not in ('timestamp', 'string', 'date')]).toPandas()\n",
    "\n",
    "    if len(df) == 0:\n",
    "        print(\"There are no any missing values!\")\n",
    "        return None\n",
    "\n",
    "    if sort:\n",
    "        return df.rename(index={0: 'count'}).T.sort_values(\"count\",ascending=False)\n",
    "\n",
    "    return df"
   ]
  },
  {
   "cell_type": "code",
   "execution_count": null,
   "metadata": {
    "application/vnd.databricks.v1+cell": {
     "cellMetadata": {
      "byteLimit": 2048000,
      "rowLimit": 10000
     },
     "inputWidgets": {},
     "nuid": "9237c551-984a-4e29-814e-3dcecde3a725",
     "showTitle": false,
     "title": ""
    }
   },
   "outputs": [],
   "source": [
    "count_missings(bronze_df)"
   ]
  },
  {
   "cell_type": "markdown",
   "metadata": {
    "application/vnd.databricks.v1+cell": {
     "cellMetadata": {},
     "inputWidgets": {},
     "nuid": "e952d29b-ffb4-40d1-91fc-4b1537d6ba79",
     "showTitle": false,
     "title": ""
    }
   },
   "source": [
    "Dropping unwanted columns"
   ]
  },
  {
   "cell_type": "code",
   "execution_count": null,
   "metadata": {
    "application/vnd.databricks.v1+cell": {
     "cellMetadata": {
      "byteLimit": 2048000,
      "rowLimit": 10000
     },
     "inputWidgets": {},
     "nuid": "3134010c-0b97-4df4-86e6-ac5f383e9f27",
     "showTitle": false,
     "title": ""
    }
   },
   "outputs": [],
   "source": [
    "# Data Cleaning: Drop unnecessary columns\n",
    "silver_df = bronze_df.drop(\n",
    "    \"monitoringSiteIdentifierScheme\",\n",
    "    \"observedPropertyDeterminandCode\",\n",
    "    \"procedureAnalyticalMethod\",\n",
    "    \"parameterSampleDepth\",\n",
    "    \"resultObservationStatus\",\n",
    "    \"remarks\",\n",
    "    \"metadata_beginLifeSpanVersion\",\n",
    "    \"metadata_statusCode\",\n",
    "    \"metadata_observationStatus\",\n",
    "    \"metadata_statements\",\n",
    "    \"metadata_versionId\",\n",
    "    \"resultStandardDeviationValue\"\n",
    ")"
   ]
  },
  {
   "cell_type": "markdown",
   "metadata": {
    "application/vnd.databricks.v1+cell": {
     "cellMetadata": {},
     "inputWidgets": {},
     "nuid": "d8c6d24f-64a1-406e-9fcd-6a7b44e6ab96",
     "showTitle": false,
     "title": ""
    }
   },
   "source": [
    "Renaming columns"
   ]
  },
  {
   "cell_type": "code",
   "execution_count": null,
   "metadata": {
    "application/vnd.databricks.v1+cell": {
     "cellMetadata": {
      "byteLimit": 2048000,
      "rowLimit": 10000
     },
     "inputWidgets": {},
     "nuid": "803a9755-740d-41c1-8e78-eab4396ba865",
     "showTitle": false,
     "title": ""
    }
   },
   "outputs": [],
   "source": [
    "# Rename columns for better understanding\n",
    "silver_df = silver_df.withColumnRenamed(\"countryCode\", \"Country_Code\") \\\n",
    "    .withColumnRenamed(\"monitoringSiteIdentifier\", \"Monitoring_SiteID\") \\\n",
    "    .withColumnRenamed(\"parameterWaterBodyCategory\", \"Water_Body\") \\\n",
    "    .withColumnRenamed(\"observedPropertyDeterminandLabel\", \"Determinand_Label\") \\\n",
    "    .withColumnRenamed(\"procedureAnalysedMatrix\", \"Analyzed_Matrix\") \\\n",
    "    .withColumnRenamed(\"resultUom\", \"Result_Unit\") \\\n",
    "    .withColumnRenamed(\"phenomenonTimeReferenceYear\", \"Reference_Year\") \\\n",
    "    .withColumnRenamed(\"parameterSamplingPeriod\", \"Sampling_Period\") \\\n",
    "    .withColumnRenamed(\"procedureLOQValue\", \"LOQ_Value\") \\\n",
    "    .withColumnRenamed(\"resultNumberOfSamples\", \"Num_of_Samples\") \\\n",
    "    .withColumnRenamed(\"resultQualityNumberOfSamplesBelowLOQ\", \"Quality_Samples\") \\\n",
    "    .withColumnRenamed(\"resultQualityMinimumBelowLOQ\", \"Quality_MinimumValue\") \\\n",
    "    .withColumnRenamed(\"resultMinimumValue\", \"Minimum_Value\") \\\n",
    "    .withColumnRenamed(\"resultQualityMeanBelowLOQ\", \"Quality_Meanvalue\") \\\n",
    "    .withColumnRenamed(\"resultMeanValue\", \"Mean_Value\") \\\n",
    "    .withColumnRenamed(\"resultQualityMaximumBelowLOQ\", \"Quality_MaximumValue\") \\\n",
    "    .withColumnRenamed(\"resultMaximumValue\", \"Maximum_value\") \\\n",
    "    .withColumnRenamed(\"resultQualityMedianBelowLOQ\", \"Quality_MedianValue\") \\\n",
    "    .withColumnRenamed(\"resultMedianValue\", \"Median_Value\")"
   ]
  },
  {
   "cell_type": "markdown",
   "metadata": {
    "application/vnd.databricks.v1+cell": {
     "cellMetadata": {},
     "inputWidgets": {},
     "nuid": "de81959b-b4d7-49ab-bc1c-16b127c9c222",
     "showTitle": false,
     "title": ""
    }
   },
   "source": []
  },
  {
   "cell_type": "markdown",
   "metadata": {
    "application/vnd.databricks.v1+cell": {
     "cellMetadata": {},
     "inputWidgets": {},
     "nuid": "39ad9c87-f11b-4d5f-bcea-68dcd8ffadc3",
     "showTitle": false,
     "title": ""
    }
   },
   "source": [
    "Mapping Country Codes to Country Names"
   ]
  },
  {
   "cell_type": "code",
   "execution_count": null,
   "metadata": {
    "application/vnd.databricks.v1+cell": {
     "cellMetadata": {
      "byteLimit": 2048000,
      "rowLimit": 10000
     },
     "inputWidgets": {},
     "nuid": "8250e648-ba13-4327-abc1-b23ad346ccb0",
     "showTitle": false,
     "title": ""
    }
   },
   "outputs": [],
   "source": [
    "# Define the full mapping of country codes to country names\n",
    "country_mapping = {\n",
    "    \"AT\": \"Austria\",\n",
    "    \"CZ\": \"Czech Republic\",\n",
    "    \"DE\": \"Germany\",\n",
    "    \"BE\": \"Belgium\",\n",
    "    \"ES\": \"Spain\",\n",
    "    \"SK\": \"Slovakia\",\n",
    "    \"SE\": \"Sweden\",\n",
    "    \"DK\": \"Denmark\",\n",
    "    \"IE\": \"Ireland\",\n",
    "    \"CH\": \"Switzerland\",\n",
    "    \"RO\": \"Romania\",\n",
    "    \"EL\": \"Greece\",\n",
    "    \"NO\": \"Norway\",\n",
    "    \"BG\": \"Bulgaria\",\n",
    "    \"SI\": \"Slovenia\",\n",
    "    \"FR\": \"France\",\n",
    "    \"IT\": \"Italy\",\n",
    "    \"PL\": \"Poland\",\n",
    "    \"LT\": \"Lithuania\",\n",
    "    \"HR\": \"Croatia\",\n",
    "    \"RS\": \"Serbia\",\n",
    "    \"LV\": \"Latvia\",\n",
    "    \"CY\": \"Cyprus\",\n",
    "    \"AL\": \"Albania\",\n",
    "    \"MK\": \"North Macedonia\",\n",
    "    \"BA\": \"Bosnia and Herzegovina\",\n",
    "    \"MT\": \"Malta\",\n",
    "    \"FI\": \"Finland\",\n",
    "    \"XK\": \"Kosovo\",\n",
    "    \"EE\": \"Estonia\",\n",
    "    \"TR\": \"Turkey\",\n",
    "    \"LU\": \"Luxembourg\",\n",
    "    \"HU\": \"Hungary\",\n",
    "    \"PT\": \"Portugal\",\n",
    "    \"NL\": \"Netherlands\",\n",
    "    \"IS\": \"Iceland\",\n",
    "    \"LI\": \"Liechtenstein\",\n",
    "    \"ME\": \"Montenegro\"\n",
    "}\n"
   ]
  },
  {
   "cell_type": "code",
   "execution_count": null,
   "metadata": {
    "application/vnd.databricks.v1+cell": {
     "cellMetadata": {
      "byteLimit": 2048000,
      "rowLimit": 10000
     },
     "inputWidgets": {},
     "nuid": "db9bef79-2658-46ba-84cf-532804d725e4",
     "showTitle": false,
     "title": ""
    }
   },
   "outputs": [],
   "source": [
    "# Create the when-otherwise conditions for each country code\n",
    "country_name_expr = when(col(\"Country_Code\") == \"AT\", \"Austria\") \\\n",
    "    .when(col(\"Country_Code\") == \"CZ\", \"Czech Republic\") \\\n",
    "    .when(col(\"Country_Code\") == \"DE\", \"Germany\") \\\n",
    "    .when(col(\"Country_Code\") == \"BE\", \"Belgium\") \\\n",
    "    .when(col(\"Country_Code\") == \"ES\", \"Spain\") \\\n",
    "    .when(col(\"Country_Code\") == \"SK\", \"Slovakia\") \\\n",
    "    .when(col(\"Country_Code\") == \"SE\", \"Sweden\") \\\n",
    "    .when(col(\"Country_Code\") == \"DK\", \"Denmark\") \\\n",
    "    .when(col(\"Country_Code\") == \"IE\", \"Ireland\") \\\n",
    "    .when(col(\"Country_Code\") == \"CH\", \"Switzerland\") \\\n",
    "    .when(col(\"Country_Code\") == \"RO\", \"Romania\") \\\n",
    "    .when(col(\"Country_Code\") == \"EL\", \"Greece\") \\\n",
    "    .when(col(\"Country_Code\") == \"NO\", \"Norway\") \\\n",
    "    .when(col(\"Country_Code\") == \"BG\", \"Bulgaria\") \\\n",
    "    .when(col(\"Country_Code\") == \"SI\", \"Slovenia\") \\\n",
    "    .when(col(\"Country_Code\") == \"FR\", \"France\") \\\n",
    "    .when(col(\"Country_Code\") == \"IT\", \"Italy\") \\\n",
    "    .when(col(\"Country_Code\") == \"PL\", \"Poland\") \\\n",
    "    .when(col(\"Country_Code\") == \"LT\", \"Lithuania\") \\\n",
    "    .when(col(\"Country_Code\") == \"HR\", \"Croatia\") \\\n",
    "    .when(col(\"Country_Code\") == \"RS\", \"Serbia\") \\\n",
    "    .when(col(\"Country_Code\") == \"LV\", \"Latvia\") \\\n",
    "    .when(col(\"Country_Code\") == \"CY\", \"Cyprus\") \\\n",
    "    .when(col(\"Country_Code\") == \"AL\", \"Albania\") \\\n",
    "    .when(col(\"Country_Code\") == \"MK\", \"North Macedonia\") \\\n",
    "    .when(col(\"Country_Code\") == \"BA\", \"Bosnia and Herzegovina\") \\\n",
    "    .when(col(\"Country_Code\") == \"MT\", \"Malta\") \\\n",
    "    .when(col(\"Country_Code\") == \"FI\", \"Finland\") \\\n",
    "    .when(col(\"Country_Code\") == \"XK\", \"Kosovo\") \\\n",
    "    .when(col(\"Country_Code\") == \"EE\", \"Estonia\") \\\n",
    "    .when(col(\"Country_Code\") == \"TR\", \"Turkey\") \\\n",
    "    .when(col(\"Country_Code\") == \"LU\", \"Luxembourg\") \\\n",
    "    .when(col(\"Country_Code\") == \"HU\", \"Hungary\") \\\n",
    "    .when(col(\"Country_Code\") == \"PT\", \"Portugal\") \\\n",
    "    .when(col(\"Country_Code\") == \"NL\", \"Netherlands\") \\\n",
    "    .when(col(\"Country_Code\") == \"IS\", \"Iceland\") \\\n",
    "    .when(col(\"Country_Code\") == \"LI\", \"Liechtenstein\") \\\n",
    "    .when(col(\"Country_Code\") == \"ME\", \"Montenegro\") \\\n",
    "    .otherwise(\"Unknown\")  # Default value for unmapped codes\n",
    "\n",
    "\n",
    "# Add the 'Country_Name' column to the DataFrame\n",
    "silver_df = silver_df.withColumn(\"Country_Name\", country_name_expr)\n",
    "\n",
    "\n",
    "# Show the results\n",
    "silver_df.show(1)\n"
   ]
  },
  {
   "cell_type": "markdown",
   "metadata": {
    "application/vnd.databricks.v1+cell": {
     "cellMetadata": {},
     "inputWidgets": {},
     "nuid": "978bf268-7f38-4ddb-99b1-aae8e5e0de4b",
     "showTitle": false,
     "title": ""
    }
   },
   "source": [
    "Water body mapping"
   ]
  },
  {
   "cell_type": "code",
   "execution_count": null,
   "metadata": {
    "application/vnd.databricks.v1+cell": {
     "cellMetadata": {
      "byteLimit": 2048000,
      "rowLimit": 10000
     },
     "inputWidgets": {},
     "nuid": "6c51ff28-8d96-46ed-9305-f37810e11868",
     "showTitle": false,
     "title": ""
    }
   },
   "outputs": [],
   "source": [
    "# Define the full mapping of water body codes to full names\n",
    "water_body_mapping = {\n",
    "    \"GW\": \"Ground Water\",\n",
    "    \"RW\": \"River Water\",\n",
    "    \"LW\": \"Lake Water\",\n",
    "    \"TW\": \"Tap Water\",\n",
    "    \"CW\": \"Canal Water\"\n",
    "}\n",
    "\n",
    "# Create the when-otherwise conditions for each water body code\n",
    "water_body_name_expr = when(col(\"water_body\") == \"GW\", \"Ground Water\") \\\n",
    "    .when(col(\"water_body\") == \"RW\", \"River Water\") \\\n",
    "    .when(col(\"water_body\") == \"LW\", \"Lake Water\") \\\n",
    "    .when(col(\"water_body\") == \"TW\", \"Tap Water\") \\\n",
    "    .when(col(\"water_body\") == \"CW\", \"Canal Water\") \\\n",
    "    .otherwise(\"Unknown\")  # Default value for unmapped codes\n",
    "\n",
    "\n",
    "# Add the 'Water_Body_Name' column to the DataFrame\n",
    "silver_df = silver_df.withColumn(\"water_body\", water_body_name_expr)\n",
    "\n",
    "\n",
    "# Show the results\n",
    "silver_df.display()\n"
   ]
  },
  {
   "cell_type": "markdown",
   "metadata": {
    "application/vnd.databricks.v1+cell": {
     "cellMetadata": {},
     "inputWidgets": {},
     "nuid": "67b1e45f-71e5-40c1-85c9-48f714ea0a24",
     "showTitle": false,
     "title": ""
    }
   },
   "source": [
    "Analyzed Matrix"
   ]
  },
  {
   "cell_type": "code",
   "execution_count": null,
   "metadata": {
    "application/vnd.databricks.v1+cell": {
     "cellMetadata": {
      "byteLimit": 2048000,
      "rowLimit": 10000
     },
     "inputWidgets": {},
     "nuid": "133571d5-94f9-4ec6-980a-08d2e4e4a218",
     "showTitle": false,
     "title": ""
    }
   },
   "outputs": [],
   "source": [
    "# Define the full mapping of Analyzed_Matrix codes to full names\n",
    "analyzed_matrix_mapping = {\n",
    "    \"W\": \"Water\",\n",
    "    \"W-DIS\": \"Water - Dissolved\",\n",
    "    \"W-SPM\": \"Water - Suspended Particulate Matter\"\n",
    "}\n",
    "\n",
    "\n",
    "# Create the when-otherwise conditions for each Analyzed_Matrix code\n",
    "analyzed_matrix_name_expr = when(col(\"Analyzed_Matrix\") == \"W\", \"Water\") \\\n",
    "    .when(col(\"Analyzed_Matrix\") == \"W-DIS\", \"Water - Dissolved\") \\\n",
    "    .when(col(\"Analyzed_Matrix\") == \"W-SPM\", \"Water - Suspended Particulate Matter\") \\\n",
    "    .otherwise(\"Unknown\")  # Default value for unmapped codes\n",
    "\n",
    "\n",
    "# Add the 'Analyzed_Matrix_Name' column to the DataFrame\n",
    "silver_df = silver_df.withColumn(\"Analyzed_Matrix\", analyzed_matrix_name_expr)\n",
    "\n",
    "\n",
    "# Show the results\n",
    "silver_df.display()\n"
   ]
  },
  {
   "cell_type": "code",
   "execution_count": null,
   "metadata": {
    "application/vnd.databricks.v1+cell": {
     "cellMetadata": {
      "byteLimit": 2048000,
      "rowLimit": 10000
     },
     "inputWidgets": {},
     "nuid": "36bcee3d-005f-4a58-8791-7a791dec7d53",
     "showTitle": false,
     "title": ""
    }
   },
   "outputs": [],
   "source": []
  },
  {
   "cell_type": "code",
   "execution_count": null,
   "metadata": {
    "application/vnd.databricks.v1+cell": {
     "cellMetadata": {
      "byteLimit": 2048000,
      "rowLimit": 10000
     },
     "inputWidgets": {},
     "nuid": "1d507e40-f0e3-431b-93bf-fc4c93488007",
     "showTitle": false,
     "title": ""
    }
   },
   "outputs": [],
   "source": [
    "silver_df.count()"
   ]
  },
  {
   "cell_type": "code",
   "execution_count": null,
   "metadata": {
    "application/vnd.databricks.v1+cell": {
     "cellMetadata": {
      "byteLimit": 2048000,
      "rowLimit": 10000
     },
     "inputWidgets": {},
     "nuid": "0a695a45-5838-4677-b9d7-021bcedd594d",
     "showTitle": false,
     "title": ""
    }
   },
   "outputs": [],
   "source": [
    "silver_df = silver_df.drop(\"Country_Code\")"
   ]
  },
  {
   "cell_type": "code",
   "execution_count": null,
   "metadata": {
    "application/vnd.databricks.v1+cell": {
     "cellMetadata": {
      "byteLimit": 2048000,
      "rowLimit": 10000
     },
     "inputWidgets": {},
     "nuid": "8e980b73-f100-48b4-a54f-e04441590459",
     "showTitle": false,
     "title": ""
    }
   },
   "outputs": [],
   "source": [
    "silver_df.count()"
   ]
  },
  {
   "cell_type": "code",
   "execution_count": null,
   "metadata": {
    "application/vnd.databricks.v1+cell": {
     "cellMetadata": {
      "byteLimit": 2048000,
      "rowLimit": 10000
     },
     "inputWidgets": {},
     "nuid": "8dba1a43-8ab4-41f9-ab20-2c5b7922285e",
     "showTitle": false,
     "title": ""
    }
   },
   "outputs": [],
   "source": [
    "silver_df.display()"
   ]
  },
  {
   "cell_type": "code",
   "execution_count": null,
   "metadata": {
    "application/vnd.databricks.v1+cell": {
     "cellMetadata": {
      "byteLimit": 2048000,
      "rowLimit": 10000
     },
     "inputWidgets": {},
     "nuid": "5bd25795-b194-4cc7-92cb-6eee0666d9ed",
     "showTitle": false,
     "title": ""
    }
   },
   "outputs": [],
   "source": [
    "# Write the cleaned data to the Silver layer with schema evolution enabled\n",
    "silver_df.write.format(\"delta\") \\\n",
    "    .option(\"mergeSchema\", \"true\") \\\n",
    "    .mode(\"overwrite\") \\\n",
    "    .save(\"/mnt/datalake/silver/water_quality_cleaned\")"
   ]
  },
  {
   "cell_type": "code",
   "execution_count": null,
   "metadata": {
    "application/vnd.databricks.v1+cell": {
     "cellMetadata": {},
     "inputWidgets": {},
     "nuid": "6e85c05f-7264-46ba-bdc1-b8964f2925ac",
     "showTitle": false,
     "title": ""
    }
   },
   "outputs": [],
   "source": []
  }
 ],
 "metadata": {
  "application/vnd.databricks.v1+notebook": {
   "dashboards": [],
   "environmentMetadata": null,
   "language": "python",
   "notebookMetadata": {
    "pythonIndentUnit": 4
   },
   "notebookName": "Silver_Layer",
   "widgets": {}
  },
  "language_info": {
   "name": "python"
  }
 },
 "nbformat": 4,
 "nbformat_minor": 0
}
